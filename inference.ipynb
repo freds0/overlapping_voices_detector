{
 "cells": [
  {
   "cell_type": "code",
   "execution_count": 35,
   "id": "7fc6a688",
   "metadata": {},
   "outputs": [],
   "source": [
    "import torch\n",
    "import torchaudio\n",
    "from transformers import WhisperModel, WhisperFeatureExtractor, AutoFeatureExtractor"
   ]
  },
  {
   "cell_type": "code",
   "execution_count": 36,
   "id": "5d34fdd1",
   "metadata": {},
   "outputs": [],
   "source": [
    "device = torch.device('cuda' if torch.cuda.is_available() else 'cpu')"
   ]
  },
  {
   "cell_type": "markdown",
   "id": "5a423f5a",
   "metadata": {},
   "source": [
    "# Whisper Features Extraction"
   ]
  },
  {
   "cell_type": "code",
   "execution_count": 63,
   "id": "addf1b16",
   "metadata": {},
   "outputs": [
    {
     "data": {
      "text/plain": [
       "WhisperEncoder(\n",
       "  (conv1): Conv1d(80, 1024, kernel_size=(3,), stride=(1,), padding=(1,))\n",
       "  (conv2): Conv1d(1024, 1024, kernel_size=(3,), stride=(2,), padding=(1,))\n",
       "  (embed_positions): Embedding(1500, 1024)\n",
       "  (layers): ModuleList(\n",
       "    (0-23): 24 x WhisperEncoderLayer(\n",
       "      (self_attn): WhisperAttention(\n",
       "        (k_proj): Linear(in_features=1024, out_features=1024, bias=False)\n",
       "        (v_proj): Linear(in_features=1024, out_features=1024, bias=True)\n",
       "        (q_proj): Linear(in_features=1024, out_features=1024, bias=True)\n",
       "        (out_proj): Linear(in_features=1024, out_features=1024, bias=True)\n",
       "      )\n",
       "      (self_attn_layer_norm): LayerNorm((1024,), eps=1e-05, elementwise_affine=True)\n",
       "      (activation_fn): GELUActivation()\n",
       "      (fc1): Linear(in_features=1024, out_features=4096, bias=True)\n",
       "      (fc2): Linear(in_features=4096, out_features=1024, bias=True)\n",
       "      (final_layer_norm): LayerNorm((1024,), eps=1e-05, elementwise_affine=True)\n",
       "    )\n",
       "  )\n",
       "  (layer_norm): LayerNorm((1024,), eps=1e-05, elementwise_affine=True)\n",
       ")"
      ]
     },
     "execution_count": 63,
     "metadata": {},
     "output_type": "execute_result"
    }
   ],
   "source": [
    "model_path=\"openai/whisper-medium\"\n",
    "whisper_model = WhisperModel.from_pretrained(model_path)\n",
    "whisper_model = whisper_model.encoder\n",
    "whisper_model = whisper_model.to(device)\n",
    "whisper_model.eval()"
   ]
  },
  {
   "cell_type": "code",
   "execution_count": 64,
   "id": "e22d406c",
   "metadata": {},
   "outputs": [],
   "source": [
    "feature_extractor = AutoFeatureExtractor.from_pretrained(model_path)"
   ]
  },
  {
   "cell_type": "code",
   "execution_count": 71,
   "id": "08ca1bbd",
   "metadata": {},
   "outputs": [],
   "source": [
    "#filepath = \"dataset_music_background_classifier/music/0b1inHMAr6o-00001.wav\"\n",
    "filepath = \"dataset_music_background_classifier/clean/0b1inHMAr6o-00001.wav\"\n",
    "audio_data, sr = torchaudio.load(filepath)"
   ]
  },
  {
   "cell_type": "code",
   "execution_count": 73,
   "id": "82039a2b",
   "metadata": {},
   "outputs": [],
   "source": [
    "# Extract Embedding\n",
    "inputs = feature_extractor(\n",
    "    audio_data.squeeze(), sampling_rate=16000, return_tensors=\"pt\"\n",
    ")\n",
    "input_features = inputs.input_features\n",
    "input_features = input_features.to(device)\n",
    "with torch.no_grad():\n",
    "    file_embedding = whisper_model(input_features).last_hidden_state\n",
    "file_embedding = file_embedding.to(device)"
   ]
  },
  {
   "cell_type": "markdown",
   "id": "e68dbd8d",
   "metadata": {},
   "source": [
    " # Classification"
   ]
  },
  {
   "cell_type": "code",
   "execution_count": 77,
   "id": "cb70b070",
   "metadata": {},
   "outputs": [],
   "source": [
    "from model.whisper_dense import WhisperDenseModel\n",
    "classifier_model = WhisperDenseModel()"
   ]
  },
  {
   "cell_type": "code",
   "execution_count": 78,
   "id": "f2cb8f04",
   "metadata": {},
   "outputs": [
    {
     "data": {
      "text/plain": [
       "<All keys matched successfully>"
      ]
     },
     "execution_count": 78,
     "metadata": {},
     "output_type": "execute_result"
    }
   ],
   "source": [
    "# Download checkpoint from gs://vai-ml/models/music_background_classifier/whisper-medium.tar.bz\n",
    "# and extract to checkpoints folder\n",
    "resume_path = \"checkpoints/whisper-medium/training-30-05-12h36m26s/model_best.pth\"\n",
    "checkpoint = torch.load(resume_path)\n",
    "classifier_model.load_state_dict(checkpoint['state_dict'])"
   ]
  },
  {
   "cell_type": "code",
   "execution_count": 79,
   "id": "bc49cdc0",
   "metadata": {},
   "outputs": [
    {
     "data": {
      "text/plain": [
       "tensor([False])"
      ]
     },
     "execution_count": 79,
     "metadata": {},
     "output_type": "execute_result"
    }
   ],
   "source": [
    "output = classifier_model(file_embedding).squeeze()\n",
    "output = output.reshape(-1)\n",
    "prediction = output > 0.5\n",
    "prediction"
   ]
  },
  {
   "cell_type": "code",
   "execution_count": null,
   "id": "43b7fa45",
   "metadata": {},
   "outputs": [],
   "source": []
  }
 ],
 "metadata": {
  "kernelspec": {
   "display_name": "dl",
   "language": "python",
   "name": "dl"
  },
  "language_info": {
   "codemirror_mode": {
    "name": "ipython",
    "version": 3
   },
   "file_extension": ".py",
   "mimetype": "text/x-python",
   "name": "python",
   "nbconvert_exporter": "python",
   "pygments_lexer": "ipython3",
   "version": "3.10.13"
  }
 },
 "nbformat": 4,
 "nbformat_minor": 5
}
